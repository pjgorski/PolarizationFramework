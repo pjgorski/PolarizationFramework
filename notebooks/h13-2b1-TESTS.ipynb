{
 "cells": [
  {
   "cell_type": "code",
   "execution_count": 1,
   "metadata": {},
   "outputs": [
    {
     "data": {
      "text/plain": [
       "36×36 SparseArrays.SparseMatrixCSC{Int64, Int64} with 804 stored entries:\n",
       "⢪⡲⠏⣟⣿⣿⢿⢓⠅⡟⣗⡇⡫⡽⠢⣿⢫⢛\n",
       "⣯⢥⠎⠁⣐⣼⣿⢯⡇⢾⢭⡄⠟⠾⠿⡯⠿⢿\n",
       "⣿⣿⣐⣼⣮⡻⣿⣿⡍⣿⣺⡇⣆⣈⣀⣘⣘⣘\n",
       "⢿⢓⡿⣟⣿⣿⢮⡳⡇⣷⢽⡇⣝⠩⠬⣹⠠⡭\n",
       "⣥⠥⣩⣍⣧⣭⢭⣭⣄⡹⣩⡅⣭⡍⠭⣬⢥⣩\n",
       "⠽⠽⠃⠷⠾⠾⠷⠷⠇⠾⡮⠋⡗⠑⠘⠚⠿⡷\n",
       "⣏⡮⣻⡅⡈⢹⡗⡙⡇⠿⢝⠉⢮⡳⣢⣗⡏⣿\n",
       "⣬⣦⡿⡧⣀⢸⣆⣣⡃⣧⣲⠀⢬⢾⢤⠓⣞⣿\n",
       "⣯⢒⣿⣇⣒⢸⡄⡦⡅⣳⢿⡧⣯⣭⣾⣽⣮⡻"
      ]
     },
     "metadata": {},
     "output_type": "display_data"
    }
   ],
   "source": [
    "using Graphs\n",
    "using LinearAlgebra\n",
    "\n",
    "using DifferentialEquations\n",
    "\n",
    "using DrWatson\n",
    "quickactivate(@__DIR__)\n",
    "\n",
    "using PolarizationFramework\n",
    "\n",
    "file = datadir(\"highschool13\", \"Highschool13-class2BIO1.lg\")\n",
    "g = loadgraph(file)\n",
    "A = adjacency_matrix(g)"
   ]
  },
  {
   "cell_type": "code",
   "execution_count": 2,
   "metadata": {},
   "outputs": [
    {
     "data": {
      "text/plain": [
       "(402.0, 402.0, 402, 2268)"
      ]
     },
     "metadata": {},
     "output_type": "display_data"
    }
   ],
   "source": [
    "triads = get_triads(A)\n",
    "links = get_links_in_triads(triads)\n",
    "A2 = get_adj_necessary_links(size(A)[1], links; typ = Float64)\n",
    "\n",
    "link_indices = findall(triu(A2, 1)[:] .> 0)\n",
    "\n",
    "sum(A)/2, sum(A2), length(links), length(triads)"
   ]
  },
  {
   "cell_type": "code",
   "execution_count": 31,
   "metadata": {},
   "outputs": [
    {
     "data": {
      "text/plain": [
       "36"
      ]
     },
     "metadata": {},
     "output_type": "display_data"
    }
   ],
   "source": [
    "N = 36"
   ]
  },
  {
   "cell_type": "code",
   "execution_count": 32,
   "metadata": {},
   "outputs": [
    {
     "data": {
      "text/plain": [
       "0.75"
      ]
     },
     "metadata": {},
     "output_type": "display_data"
    }
   ],
   "source": [
    "Nbeg = Int(ceil(N/2))\n",
    "\n",
    "trs = zeros(N-Nbeg+1)\n",
    "\n",
    "for N1 in Nbeg:N\n",
    "\ttrs[N1-Nbeg+1] = binomial(N1,3) + binomial(N-N1,3)\n",
    "end\n",
    "\n",
    "ptrs = trs ./ binomial(N,3)\n",
    "\n",
    "weights = map(x->binomial(N, x), Nbeg:N) ./ 2^N\n",
    "weights[2:end] .*= 2\n",
    "sum(weights)\n",
    "\n",
    "1-sum(ptrs .* weights)"
   ]
  },
  {
   "cell_type": "code",
   "execution_count": 37,
   "metadata": {},
   "outputs": [
    {
     "data": {
      "text/plain": [
       "4-element Vector{Float64}:\n",
       "  701.0\n",
       "    0.0\n",
       " 1567.0\n",
       "    0.0"
      ]
     },
     "metadata": {},
     "output_type": "display_data"
    }
   ],
   "source": [
    "rl_weights = zeros(N,N)\n",
    "larger_size = 20\n",
    "PolarizationFramework.init_random_balanced_relations!(\n",
    "                    rl_weights,\n",
    "                    N,\n",
    "                    larger_size\n",
    "                )\n",
    "                rl_weights .*= A2\n",
    "                get_triad_counts(rl_weights, triads)"
   ]
  },
  {
   "cell_type": "code",
   "execution_count": 39,
   "metadata": {},
   "outputs": [
    {
     "data": {
      "text/plain": [
       "0.6797198590647766"
      ]
     },
     "metadata": {},
     "output_type": "display_data"
    }
   ],
   "source": [
    "Nbeg = Int(ceil(N/2))\n",
    "\n",
    "trs = zeros(N-Nbeg+1)\n",
    "\n",
    "for N1 in Nbeg:N\n",
    "\tPolarizationFramework.init_random_balanced_relations!(\n",
    "                    rl_weights,\n",
    "                    N,\n",
    "                    N1\n",
    "                )\n",
    "                rl_weights .*= A2\n",
    "    tr_counts = get_triad_counts(rl_weights, triads)\n",
    "\ttrs[N1-Nbeg+1] = tr_counts[1]\n",
    "end\n",
    "\n",
    "ptrs = trs ./ length(triads)\n",
    "\n",
    "weights = map(x->binomial(N, x), Nbeg:N) ./ 2^N\n",
    "weights[2:end] .*= 2\n",
    "sum(weights)\n",
    "\n",
    "1-sum(ptrs .* weights)"
   ]
  },
  {
   "cell_type": "code",
   "execution_count": 40,
   "metadata": {},
   "outputs": [
    {
     "data": {
      "text/plain": [
       "19-element Vector{Float64}:\n",
       "  624.0\n",
       "  655.0\n",
       "  701.0\n",
       "  723.0\n",
       "  792.0\n",
       "  925.0\n",
       "  924.0\n",
       " 1032.0\n",
       " 1073.0\n",
       " 1120.0\n",
       " 1173.0\n",
       " 1205.0\n",
       " 1257.0\n",
       " 1384.0\n",
       " 1539.0\n",
       " 1654.0\n",
       " 1788.0\n",
       " 1997.0\n",
       " 2268.0"
      ]
     },
     "metadata": {},
     "output_type": "display_data"
    }
   ],
   "source": [
    "trs"
   ]
  },
  {
   "cell_type": "code",
   "execution_count": 41,
   "metadata": {},
   "outputs": [
    {
     "data": {
      "text/plain": [
       "2.9103830456733704e-11"
      ]
     },
     "metadata": {},
     "output_type": "display_data"
    }
   ],
   "source": [
    "1/2^N*2"
   ]
  }
 ],
 "metadata": {
  "kernelspec": {
   "display_name": "Julia 1.6.4",
   "language": "julia",
   "name": "julia-1.6"
  },
  "language_info": {
   "file_extension": ".jl",
   "mimetype": "application/julia",
   "name": "julia",
   "version": "1.6.4"
  },
  "orig_nbformat": 4
 },
 "nbformat": 4,
 "nbformat_minor": 2
}
